{
  "nbformat": 4,
  "nbformat_minor": 0,
  "metadata": {
    "colab": {
      "provenance": [],
      "toc_visible": true,
      "authorship_tag": "ABX9TyOh6oovzA2qHHkcA40IL15w",
      "include_colab_link": true
    },
    "kernelspec": {
      "name": "python3",
      "display_name": "Python 3"
    },
    "language_info": {
      "name": "python"
    }
  },
  "cells": [
    {
      "cell_type": "markdown",
      "metadata": {
        "id": "view-in-github",
        "colab_type": "text"
      },
      "source": [
        "<a href=\"https://colab.research.google.com/github/gabrielbaltazarmw2/Deep-Learning-Projects/blob/main/multiclass-classification/mnist_dataset.ipynb\" target=\"_parent\"><img src=\"https://colab.research.google.com/assets/colab-badge.svg\" alt=\"Open In Colab\"/></a>"
      ]
    },
    {
      "cell_type": "markdown",
      "source": [
        "Este relatório documenta o projeto realizado no Jupyter Notebook para a classificação de dígitos manuscritos usando a base de dados MNIST. O projeto abrange desde a preparação dos dados até a validação do modelo, incluindo etapas de aumento de dados."
      ],
      "metadata": {
        "id": "mT2Z3hiB7aZb"
      }
    },
    {
      "cell_type": "markdown",
      "metadata": {
        "id": "Z0mX3xarGcaW"
      },
      "source": [
        "# Diretório de trabalho"
      ]
    },
    {
      "cell_type": "markdown",
      "source": [
        "- Montagem do Google Drive e alteração do diretório de trabalho para acessar os arquivos do notebook e os dados utilizados no projeto:"
      ],
      "metadata": {
        "id": "EUml7AGxFNLO"
      }
    },
    {
      "cell_type": "code",
      "execution_count": 1,
      "metadata": {
        "colab": {
          "base_uri": "https://localhost:8080/"
        },
        "id": "sWQmzePs2C9p",
        "outputId": "22ee3f48-91a5-4464-9660-7987855bb023"
      },
      "outputs": [
        {
          "output_type": "stream",
          "name": "stdout",
          "text": [
            "Mounted at /content/drive\n"
          ]
        }
      ],
      "source": [
        "from google.colab import drive\n",
        "import os\n",
        "\n",
        "# Monta o drive no Google Colab\n",
        "drive.mount('/content/drive',force_remount=True)\n",
        "\n",
        "# Altera o diretório de trabalho\n",
        "os.chdir('/content/drive/MyDrive/Colab Notebooks/UDEMY/DEEP LEARNING')"
      ]
    },
    {
      "cell_type": "markdown",
      "source": [
        "# Importação de Pacotes e Funções"
      ],
      "metadata": {
        "id": "YzyzTX0dCPXn"
      }
    },
    {
      "cell_type": "markdown",
      "source": [
        "- Importação dos principais pacotes utilizados ao longo do projeto, incluindo `pandas, numpy, matplotlib.pyplot, scikit-learn e keras` para manipulação de dados e construção do modelo:"
      ],
      "metadata": {
        "id": "r3Crm1aHFXux"
      }
    },
    {
      "cell_type": "code",
      "source": [
        "import pandas as pd\n",
        "import numpy as np\n",
        "import matplotlib.pyplot as plt\n",
        "\n",
        "from keras.datasets import mnist\n",
        "from keras.utils import to_categorical\n",
        "from keras.models import Sequential\n",
        "from keras.layers import Dense, Conv2D, Flatten, Dropout, MaxPooling2D, BatchNormalization\n",
        "\n",
        "from sklearn.model_selection import StratifiedKFold\n",
        "from keras.preprocessing.image import ImageDataGenerator\n",
        "from sklearn.metrics import confusion_matrix, accuracy_score\n",
        "import tensorflow as tf"
      ],
      "metadata": {
        "id": "fy6-qlrBCWAZ"
      },
      "execution_count": 2,
      "outputs": []
    },
    {
      "cell_type": "markdown",
      "source": [
        "# Carregando os Dados"
      ],
      "metadata": {
        "id": "27a0M0z6BL8L"
      }
    },
    {
      "cell_type": "markdown",
      "source": [
        "- **Base de Dados MNIST**: Carregamento dos dados de treinamento e teste diretamente com a função `load_data()`."
      ],
      "metadata": {
        "id": "9JBZTvClBc2S"
      }
    },
    {
      "cell_type": "code",
      "source": [
        "(X_treinamento, y_treinamento), (X_teste, y_teste) = mnist.load_data()"
      ],
      "metadata": {
        "id": "AeO95S11BTBP",
        "colab": {
          "base_uri": "https://localhost:8080/"
        },
        "outputId": "2a55a8bf-2012-4d61-e87d-c4ec83d41392"
      },
      "execution_count": 3,
      "outputs": [
        {
          "output_type": "stream",
          "name": "stdout",
          "text": [
            "Downloading data from https://storage.googleapis.com/tensorflow/tf-keras-datasets/mnist.npz\n",
            "11490434/11490434 [==============================] - 0s 0us/step\n"
          ]
        }
      ]
    },
    {
      "cell_type": "code",
      "source": [
        "X_treinamento.shape, X_teste.shape, X_teste.dtype"
      ],
      "metadata": {
        "colab": {
          "base_uri": "https://localhost:8080/"
        },
        "id": "CU_EUxTYB0ue",
        "outputId": "431f10db-beeb-4b5c-94a7-107e0da9058f"
      },
      "execution_count": 4,
      "outputs": [
        {
          "output_type": "execute_result",
          "data": {
            "text/plain": [
              "((60000, 28, 28), (10000, 28, 28), dtype('uint8'))"
            ]
          },
          "metadata": {},
          "execution_count": 4
        }
      ]
    },
    {
      "cell_type": "code",
      "source": [
        "y_treinamento.shape, y_teste.shape, y_teste.dtype"
      ],
      "metadata": {
        "colab": {
          "base_uri": "https://localhost:8080/"
        },
        "id": "VsbRwNysCBCv",
        "outputId": "b84e77ad-7fc4-49a8-8fd6-ce9c90be3b45"
      },
      "execution_count": 5,
      "outputs": [
        {
          "output_type": "execute_result",
          "data": {
            "text/plain": [
              "((60000,), (10000,), dtype('uint8'))"
            ]
          },
          "metadata": {},
          "execution_count": 5
        }
      ]
    },
    {
      "cell_type": "markdown",
      "source": [
        "- **Visualização de uma Imagem:** Exibição da primeira imagem do conjunto de treinamento para verificar os dados."
      ],
      "metadata": {
        "id": "j0uHT1oI8C2K"
      }
    },
    {
      "cell_type": "code",
      "source": [
        "plt.imshow(X_treinamento[0], cmap = 'gray')\n",
        "plt.title('Classe ' + str(y_treinamento[0]))"
      ],
      "metadata": {
        "colab": {
          "base_uri": "https://localhost:8080/",
          "height": 469
        },
        "id": "sqq9yKZoBz3-",
        "outputId": "82effe01-8483-4df9-9c42-e76426b2c568"
      },
      "execution_count": 6,
      "outputs": [
        {
          "output_type": "execute_result",
          "data": {
            "text/plain": [
              "Text(0.5, 1.0, 'Classe 5')"
            ]
          },
          "metadata": {},
          "execution_count": 6
        },
        {
          "output_type": "display_data",
          "data": {
            "text/plain": [
              "<Figure size 640x480 with 1 Axes>"
            ],
            "image/png": "[encoded data removed]"
          },
          "metadata": {}
        }
      ]
    },
    {
      "cell_type": "markdown",
      "source": [
        "# Tratamento dos Dados"
      ],
      "metadata": {
        "id": "SfoBQMtLDazs"
      }
    },
    {
      "cell_type": "markdown",
      "source": [
        "- **Preparação dos Previsores:** Normalização e remodelagem dos dados para serem utilizados na rede neural convolucional."
      ],
      "metadata": {
        "id": "1kUor2BF8H-j"
      }
    },
    {
      "cell_type": "code",
      "source": [
        "previsores_treinamento = X_treinamento.reshape(X_treinamento.shape[0],\n",
        "                                               28, 28, 1)\n",
        "previsores_teste = X_teste.reshape(X_teste.shape[0], 28, 28, 1)"
      ],
      "metadata": {
        "id": "nF9dQEgqC3Fh"
      },
      "execution_count": 7,
      "outputs": []
    },
    {
      "cell_type": "code",
      "source": [
        "previsores_treinamento = previsores_treinamento.astype('float32')\n",
        "previsores_teste = previsores_teste.astype('float32')"
      ],
      "metadata": {
        "id": "cDpwD1zsC5YT"
      },
      "execution_count": 8,
      "outputs": []
    },
    {
      "cell_type": "code",
      "source": [
        "previsores_treinamento /= 255\n",
        "previsores_teste /= 255"
      ],
      "metadata": {
        "id": "WKivyKvBDHKS"
      },
      "execution_count": 9,
      "outputs": []
    },
    {
      "cell_type": "markdown",
      "source": [
        "- **Codificação das Classes:** Conversão das classes para o formato categórico."
      ],
      "metadata": {
        "id": "ixOo32HQ8NOW"
      }
    },
    {
      "cell_type": "code",
      "source": [
        "classe_treinamento = to_categorical(y_treinamento)\n",
        "classe_teste = to_categorical(y_teste)"
      ],
      "metadata": {
        "id": "J3hNuV6Vt313"
      },
      "execution_count": 10,
      "outputs": []
    },
    {
      "cell_type": "code",
      "source": [
        "classe_treinamento[0], y_treinamento[0]"
      ],
      "metadata": {
        "colab": {
          "base_uri": "https://localhost:8080/"
        },
        "id": "BJocTUORDvGV",
        "outputId": "e46410c6-8f69-410d-b3f6-b046a621aa49"
      },
      "execution_count": 11,
      "outputs": [
        {
          "output_type": "execute_result",
          "data": {
            "text/plain": [
              "(array([0., 0., 0., 0., 0., 1., 0., 0., 0., 0.], dtype=float32), 5)"
            ]
          },
          "metadata": {},
          "execution_count": 11
        }
      ]
    },
    {
      "cell_type": "markdown",
      "source": [
        "# Contrução da Rede"
      ],
      "metadata": {
        "id": "AGz3PA43ESks"
      }
    },
    {
      "cell_type": "markdown",
      "source": [
        "- **Arquitetura da Rede Neural:** Uso de camadas convolucionais, de normalização, pooling e densas."
      ],
      "metadata": {
        "id": "C79_Y8rq8Rln"
      }
    },
    {
      "cell_type": "code",
      "source": [
        "classificador = Sequential()\n",
        "classificador.add(Conv2D(32, (3,3),\n",
        "                         input_shape=(28, 28, 1),\n",
        "                         activation = 'relu'))\n",
        "classificador.add(BatchNormalization())\n",
        "classificador.add(MaxPooling2D(pool_size = (2,2)))\n",
        "\n",
        "classificador.add(Conv2D(32, (3,3), activation = 'relu'))\n",
        "classificador.add(BatchNormalization())\n",
        "classificador.add(MaxPooling2D(pool_size = (2,2)))\n",
        "\n",
        "classificador.add(Flatten())\n",
        "\n",
        "classificador.add(Dense(units = 128, activation = 'relu'))\n",
        "classificador.add(Dropout(0.2))\n",
        "classificador.add(Dense(units = 128, activation = 'relu'))\n",
        "classificador.add(Dropout(0.2))\n",
        "classificador.add(Dense(units = 10,\n",
        "                        activation = 'softmax'))"
      ],
      "metadata": {
        "id": "pNK20ZGREVZp"
      },
      "execution_count": 12,
      "outputs": []
    },
    {
      "cell_type": "code",
      "source": [
        "classificador.compile(loss = 'categorical_crossentropy',\n",
        "                      optimizer = 'adam', metrics = ['accuracy'])"
      ],
      "metadata": {
        "id": "PpRexAXkEzmN"
      },
      "execution_count": 13,
      "outputs": []
    },
    {
      "cell_type": "markdown",
      "source": [
        "- **Treinamento do Modelo:** Execução do treinamento com validação nos dados de teste."
      ],
      "metadata": {
        "id": "L_kF_Yux8WfJ"
      }
    },
    {
      "cell_type": "code",
      "source": [
        "history = classificador.fit(previsores_treinamento,\n",
        "                            classe_treinamento,\n",
        "                            batch_size = 128,\n",
        "                            epochs = 5,\n",
        "                            validation_data = (previsores_teste,\n",
        "                                               classe_teste))"
      ],
      "metadata": {
        "colab": {
          "base_uri": "https://localhost:8080/"
        },
        "id": "2J_6NO0_E5xH",
        "outputId": "a4cbe424-b9a9-451b-8a6a-947e6bea9ffb"
      },
      "execution_count": 15,
      "outputs": [
        {
          "output_type": "stream",
          "name": "stdout",
          "text": [
            "Epoch 1/5\n",
            "469/469 [==============================] - 59s 125ms/step - loss: 0.0691 - accuracy: 0.9795 - val_loss: 0.0425 - val_accuracy: 0.9869\n",
            "Epoch 2/5\n",
            "469/469 [==============================] - 62s 133ms/step - loss: 0.0478 - accuracy: 0.9856 - val_loss: 0.0336 - val_accuracy: 0.9903\n",
            "Epoch 3/5\n",
            "469/469 [==============================] - 72s 155ms/step - loss: 0.0367 - accuracy: 0.9890 - val_loss: 0.0355 - val_accuracy: 0.9900\n",
            "Epoch 4/5\n",
            "469/469 [==============================] - 59s 126ms/step - loss: 0.0306 - accuracy: 0.9913 - val_loss: 0.0351 - val_accuracy: 0.9888\n",
            "Epoch 5/5\n",
            "469/469 [==============================] - 54s 114ms/step - loss: 0.0267 - accuracy: 0.9921 - val_loss: 0.0431 - val_accuracy: 0.9885\n"
          ]
        }
      ]
    },
    {
      "cell_type": "markdown",
      "source": [
        "# Avaliação"
      ],
      "metadata": {
        "id": "IUuqHC3qvDB2"
      }
    },
    {
      "cell_type": "markdown",
      "source": [
        "- **Avaliação do Modelo:** Uso da função `evaluate()` para testar a eficácia do modelo."
      ],
      "metadata": {
        "id": "58l5Iexw8bKB"
      }
    },
    {
      "cell_type": "code",
      "source": [
        "resultado = classificador.evaluate(previsores_teste, classe_teste)"
      ],
      "metadata": {
        "id": "l6fgFYEdvE37",
        "colab": {
          "base_uri": "https://localhost:8080/"
        },
        "outputId": "14f9632a-53da-49a7-9c9d-81f943216730"
      },
      "execution_count": 16,
      "outputs": [
        {
          "output_type": "stream",
          "name": "stdout",
          "text": [
            "313/313 [==============================] - 3s 11ms/step - loss: 0.0431 - accuracy: 0.9885\n"
          ]
        }
      ]
    },
    {
      "cell_type": "code",
      "source": [
        "previsoes = classificador.predict(previsores_teste)"
      ],
      "metadata": {
        "id": "4_B-zLx_vNJG",
        "colab": {
          "base_uri": "https://localhost:8080/"
        },
        "outputId": "5e43a39a-e35b-446d-ee97-bfe8efc4966c"
      },
      "execution_count": 17,
      "outputs": [
        {
          "output_type": "stream",
          "name": "stdout",
          "text": [
            "313/313 [==============================] - 3s 8ms/step\n"
          ]
        }
      ]
    },
    {
      "cell_type": "code",
      "source": [
        "previsoes = (previsoes > 0.5)"
      ],
      "metadata": {
        "id": "FmGic2YNvQvq"
      },
      "execution_count": 18,
      "outputs": []
    },
    {
      "cell_type": "code",
      "source": [
        "previsoes[0]"
      ],
      "metadata": {
        "colab": {
          "base_uri": "https://localhost:8080/"
        },
        "id": "RErP2SuMcsiX",
        "outputId": "35780146-a708-493f-d342-4d46317b3aa8"
      },
      "execution_count": 19,
      "outputs": [
        {
          "output_type": "execute_result",
          "data": {
            "text/plain": [
              "array([False, False, False, False, False, False, False,  True, False,\n",
              "       False])"
            ]
          },
          "metadata": {},
          "execution_count": 19
        }
      ]
    },
    {
      "cell_type": "code",
      "source": [
        "classe_teste[0]"
      ],
      "metadata": {
        "colab": {
          "base_uri": "https://localhost:8080/"
        },
        "id": "JU-ya9KH5TuZ",
        "outputId": "48ebacbb-46fe-4017-a681-a0bdb41c6ed7"
      },
      "execution_count": 21,
      "outputs": [
        {
          "output_type": "execute_result",
          "data": {
            "text/plain": [
              "array([0., 0., 0., 0., 0., 0., 0., 1., 0., 0.], dtype=float32)"
            ]
          },
          "metadata": {},
          "execution_count": 21
        }
      ]
    },
    {
      "cell_type": "markdown",
      "source": [
        "- **Matriz de Confusão:** Visualização para entender as previsões em detalhe."
      ],
      "metadata": {
        "id": "rHY84WHR8iXp"
      }
    },
    {
      "cell_type": "code",
      "source": [
        "matriz_confusao = confusion_matrix(classe_teste.argmax(axis=1), previsoes.argmax(axis=1))"
      ],
      "metadata": {
        "id": "dEurdkO4vU-3"
      },
      "execution_count": 22,
      "outputs": []
    },
    {
      "cell_type": "code",
      "source": [
        "from sklearn.metrics import confusion_matrix\n",
        "import numpy as np\n",
        "import seaborn as sns\n",
        "import matplotlib.pyplot as plt\n",
        "\n",
        "class_labels = [\"0\", \"1\", \"2\", \"3\", \"4\", \"5\", \"6\", \"7\", \"8\", \"9\"]\n",
        "\n",
        "# Criar a matriz de confusão\n",
        "matriz_confusao = confusion_matrix(classe_teste.argmax(axis=1), previsoes.argmax(axis=1))\n",
        "\n",
        "# Plotar a matriz de confusão\n",
        "sns.heatmap(matriz_confusao, annot=True, fmt='d', cmap='Blues', cbar=True,\n",
        "            xticklabels=class_labels, yticklabels=class_labels)  # Adiciona rótulos personalizados\n",
        "plt.xlabel('Predições')\n",
        "plt.ylabel('Rótulos Reais')\n",
        "plt.title('Matriz de Confusão')\n",
        "plt.show()\n"
      ],
      "metadata": {
        "id": "Fy2osRgHxMNO",
        "colab": {
          "base_uri": "https://localhost:8080/",
          "height": 472
        },
        "outputId": "ee6e1ee8-9048-4e8a-c5af-8ac67354f1fb"
      },
      "execution_count": 23,
      "outputs": [
        {
          "output_type": "display_data",
          "data": {
            "text/plain": [
              "<Figure size 640x480 with 2 Axes>"
            ],
            "image/png": "[encoded data removed]"
          },
          "metadata": {}
        }
      ]
    },
    {
      "cell_type": "code",
      "source": [
        "from sklearn.metrics import classification_report\n",
        "\n",
        "# Relatório de classificação detalhado\n",
        "classification_rep = classification_report(classe_teste, previsoes, target_names=class_labels)\n",
        "print(\"Relatório de Classificação:\")\n",
        "print(classification_rep)"
      ],
      "metadata": {
        "id": "bLnEF_HXxSdO",
        "colab": {
          "base_uri": "https://localhost:8080/"
        },
        "outputId": "12ba868c-5e86-430e-f1dd-366b2a5a3bb7"
      },
      "execution_count": 25,
      "outputs": [
        {
          "output_type": "stream",
          "name": "stdout",
          "text": [
            "Relatório de Classificação:\n",
            "              precision    recall  f1-score   support\n",
            "\n",
            "           0       0.98      1.00      0.99       980\n",
            "           1       0.99      1.00      0.99      1135\n",
            "           2       1.00      0.99      0.99      1032\n",
            "           3       0.99      1.00      0.99      1010\n",
            "           4       0.98      1.00      0.99       982\n",
            "           5       0.99      0.98      0.99       892\n",
            "           6       0.99      0.99      0.99       958\n",
            "           7       0.97      1.00      0.98      1028\n",
            "           8       1.00      0.97      0.99       974\n",
            "           9       1.00      0.96      0.98      1009\n",
            "\n",
            "   micro avg       0.99      0.99      0.99     10000\n",
            "   macro avg       0.99      0.99      0.99     10000\n",
            "weighted avg       0.99      0.99      0.99     10000\n",
            " samples avg       0.99      0.99      0.99     10000\n",
            "\n"
          ]
        },
        {
          "output_type": "stream",
          "name": "stderr",
          "text": [
            "/usr/local/lib/python3.10/dist-packages/sklearn/metrics/_classification.py:1344: UndefinedMetricWarning: Precision and F-score are ill-defined and being set to 0.0 in samples with no predicted labels. Use `zero_division` parameter to control this behavior.\n",
            "  _warn_prf(average, modifier, msg_start, len(result))\n"
          ]
        }
      ]
    },
    {
      "cell_type": "markdown",
      "source": [
        "# Validação Cruzada"
      ],
      "metadata": {
        "id": "FSpx1CJxI1xP"
      }
    },
    {
      "cell_type": "code",
      "source": [
        "seed = 5\n",
        "np.random.seed(seed)"
      ],
      "metadata": {
        "id": "7Du6Irf7JmCx"
      },
      "execution_count": 26,
      "outputs": []
    },
    {
      "cell_type": "code",
      "source": [
        "(X, y), (X_teste, y_teste) = mnist.load_data()\n",
        "previsores = X.reshape(X.shape[0], 28, 28, 1)\n",
        "previsores = previsores.astype('float32')\n",
        "previsores /= 255\n",
        "classe = to_categorical(y, 10)"
      ],
      "metadata": {
        "id": "QUQUvBmjLOii"
      },
      "execution_count": 27,
      "outputs": []
    },
    {
      "cell_type": "code",
      "source": [
        "kfold = StratifiedKFold(n_splits = 5, shuffle = True, random_state = seed)\n",
        "fold_metrics = []\n",
        "\n",
        "for i, (train_index, test_index) in enumerate(kfold.split(previsores, np.zeros(shape = (classe.shape[0], 1)))):\n",
        "  print(f\"Fold {i}:\")\n",
        "  classificador = Sequential()\n",
        "  classificador.add(Conv2D(32, (3,3), input_shape=(28,28,1), activation = 'relu'))\n",
        "  classificador.add(MaxPooling2D(pool_size = (2,2)))\n",
        "  classificador.add(Flatten())\n",
        "  classificador.add(Dense(units = 128, activation = 'relu'))\n",
        "  classificador.add(Dense(units = 10, activation = 'softmax'))\n",
        "  classificador.compile(loss = 'categorical_crossentropy', optimizer = 'adam',\n",
        "                        metrics = ['accuracy'])\n",
        "  classificador.fit(previsores[train_index], classe[train_index],\n",
        "                    batch_size = 128, epochs = 5)\n",
        "  precisao = classificador.evaluate(previsores[test_index], classe[test_index])\n",
        "  fold_metrics.append(precisao)"
      ],
      "metadata": {
        "colab": {
          "base_uri": "https://localhost:8080/"
        },
        "id": "rYrWfTdJI6CW",
        "outputId": "df4977f9-4371-495b-d180-aa875e567820"
      },
      "execution_count": 30,
      "outputs": [
        {
          "output_type": "stream",
          "name": "stdout",
          "text": [
            "Fold 0:\n",
            "Epoch 1/5\n",
            "375/375 [==============================] - 30s 77ms/step - loss: 0.2382 - accuracy: 0.9329\n",
            "Epoch 2/5\n",
            "375/375 [==============================] - 27s 72ms/step - loss: 0.0761 - accuracy: 0.9773\n",
            "Epoch 3/5\n",
            "375/375 [==============================] - 22s 58ms/step - loss: 0.0521 - accuracy: 0.9851\n",
            "Epoch 4/5\n",
            "375/375 [==============================] - 21s 55ms/step - loss: 0.0381 - accuracy: 0.9884\n",
            "Epoch 5/5\n",
            "375/375 [==============================] - 21s 57ms/step - loss: 0.0282 - accuracy: 0.9916\n",
            "375/375 [==============================] - 2s 5ms/step - loss: 0.0606 - accuracy: 0.9823\n",
            "Fold 1:\n",
            "Epoch 1/5\n",
            "375/375 [==============================] - 22s 57ms/step - loss: 0.2646 - accuracy: 0.9257\n",
            "Epoch 2/5\n",
            "375/375 [==============================] - 21s 55ms/step - loss: 0.0830 - accuracy: 0.9758\n",
            "Epoch 3/5\n",
            "375/375 [==============================] - 21s 57ms/step - loss: 0.0532 - accuracy: 0.9842\n",
            "Epoch 4/5\n",
            "375/375 [==============================] - 21s 55ms/step - loss: 0.0389 - accuracy: 0.9886\n",
            "Epoch 5/5\n",
            "375/375 [==============================] - 21s 57ms/step - loss: 0.0299 - accuracy: 0.9912\n",
            "375/375 [==============================] - 2s 5ms/step - loss: 0.0543 - accuracy: 0.9829\n",
            "Fold 2:\n",
            "Epoch 1/5\n",
            "375/375 [==============================] - 21s 53ms/step - loss: 0.2526 - accuracy: 0.9285\n",
            "Epoch 2/5\n",
            "375/375 [==============================] - 23s 61ms/step - loss: 0.0795 - accuracy: 0.9766\n",
            "Epoch 3/5\n",
            "375/375 [==============================] - 28s 74ms/step - loss: 0.0535 - accuracy: 0.9841\n",
            "Epoch 4/5\n",
            "375/375 [==============================] - 20s 53ms/step - loss: 0.0403 - accuracy: 0.9881\n",
            "Epoch 5/5\n",
            "375/375 [==============================] - 24s 64ms/step - loss: 0.0314 - accuracy: 0.9904\n",
            "375/375 [==============================] - 3s 7ms/step - loss: 0.0524 - accuracy: 0.9836\n",
            "Fold 3:\n",
            "Epoch 1/5\n",
            "375/375 [==============================] - 21s 53ms/step - loss: 0.2504 - accuracy: 0.9304\n",
            "Epoch 2/5\n",
            "375/375 [==============================] - 21s 56ms/step - loss: 0.0737 - accuracy: 0.9786\n",
            "Epoch 3/5\n",
            "375/375 [==============================] - 27s 73ms/step - loss: 0.0489 - accuracy: 0.9852\n",
            "Epoch 4/5\n",
            "375/375 [==============================] - 32s 86ms/step - loss: 0.0364 - accuracy: 0.9891\n",
            "Epoch 5/5\n",
            "375/375 [==============================] - 28s 74ms/step - loss: 0.0285 - accuracy: 0.9917\n",
            "375/375 [==============================] - 3s 7ms/step - loss: 0.0605 - accuracy: 0.9830\n",
            "Fold 4:\n",
            "Epoch 1/5\n",
            "375/375 [==============================] - 30s 77ms/step - loss: 0.2531 - accuracy: 0.9283\n",
            "Epoch 2/5\n",
            "375/375 [==============================] - 30s 79ms/step - loss: 0.0791 - accuracy: 0.9763\n",
            "Epoch 3/5\n",
            "375/375 [==============================] - 25s 66ms/step - loss: 0.0515 - accuracy: 0.9843\n",
            "Epoch 4/5\n",
            "375/375 [==============================] - 25s 66ms/step - loss: 0.0399 - accuracy: 0.9882\n",
            "Epoch 5/5\n",
            "375/375 [==============================] - 20s 54ms/step - loss: 0.0281 - accuracy: 0.9916\n",
            "375/375 [==============================] - 2s 5ms/step - loss: 0.0508 - accuracy: 0.9859\n"
          ]
        }
      ]
    },
    {
      "cell_type": "markdown",
      "source": [
        "## Métricas"
      ],
      "metadata": {
        "id": "rGM_b5F5za3S"
      }
    },
    {
      "cell_type": "markdown",
      "source": [
        "- Cálculo da média e desvio padrão das métricas após todos os folds:"
      ],
      "metadata": {
        "id": "IppiicxXHfF_"
      }
    },
    {
      "cell_type": "code",
      "source": [
        "n_splits = 5"
      ],
      "metadata": {
        "id": "Flm1Ljfy6coQ"
      },
      "execution_count": 31,
      "outputs": []
    },
    {
      "cell_type": "code",
      "source": [
        "# Média das métricas após todos os folds\n",
        "mean_metrics = np.mean(fold_metrics, axis=0)\n",
        "loss_mean = mean_metrics[0]\n",
        "accuracy_mean = mean_metrics[1]\n",
        "# auc_mean = mean_metrics[2]\n",
        "\n",
        "print(f'Métricas médias após {n_splits}-Fold Cross-Validation: {mean_metrics}')\n",
        "print(f'Média da Perda: {loss_mean:.3f}')\n",
        "print(f'Média da Acurácia: {accuracy_mean:.3f}')\n",
        "# print(f'Média do AUC: {auc_mean:.3f}')"
      ],
      "metadata": {
        "colab": {
          "base_uri": "https://localhost:8080/"
        },
        "outputId": "76465d81-c2c4-406d-f504-3a0c81c605c5",
        "id": "tno9NF79l2kY"
      },
      "execution_count": 33,
      "outputs": [
        {
          "output_type": "stream",
          "name": "stdout",
          "text": [
            "Métricas médias após 5-Fold Cross-Validation: [0.05572976 0.98355   ]\n",
            "Média da Perda: 0.056\n",
            "Média da Acurácia: 0.984\n"
          ]
        }
      ]
    },
    {
      "cell_type": "code",
      "source": [
        "# Calcular o desvio padrão para cada métrica\n",
        "std_devs = np.std(fold_metrics, axis=0)\n",
        "loss_std = std_devs[0]\n",
        "accuracy_std = std_devs[1]\n",
        "# auc_std = std_devs[2]\n",
        "\n",
        "print(f'Desvio padrão das métricas após {n_splits}-Fold Cross-Validation: {std_devs}')\n",
        "print(f'Desvio padrão da Perda: {loss_std:.3f}')\n",
        "print(f'Desvio padrão da Acurácia: {accuracy_std:.3f}')\n",
        "# print(f'Desvio padrão do AUC: {auc_std:.3f}')"
      ],
      "metadata": {
        "colab": {
          "base_uri": "https://localhost:8080/"
        },
        "outputId": "f87216a8-4bdf-46bf-acd6-4021511595df",
        "id": "T5YddVPgl2kY"
      },
      "execution_count": 34,
      "outputs": [
        {
          "output_type": "stream",
          "name": "stdout",
          "text": [
            "Desvio padrão das métricas após 5-Fold Cross-Validation: [0.00411726 0.00124789]\n",
            "Desvio padrão da Perda: 0.004\n",
            "Desvio padrão da Acurácia: 0.001\n"
          ]
        }
      ]
    },
    {
      "cell_type": "markdown",
      "source": [
        "- Visualização dos resultados por meio de gráficos de barras para cada métrica ao longo dos folds:"
      ],
      "metadata": {
        "id": "_R5xVnSMHjVw"
      }
    },
    {
      "cell_type": "code",
      "source": [
        "# Nomes das métricas\n",
        "metric_names = ['Loss', 'Accuracy']#, 'AUC']\n",
        "\n",
        "fold_metrics_np = np.array(fold_metrics)\n",
        "\n",
        "# Criar um plot para cada métrica\n",
        "fig, axs = plt.subplots(1, len(metric_names), figsize=(12, 5), sharey=True)\n",
        "\n",
        "for i, metric_name in enumerate(metric_names):\n",
        "\n",
        "    # Extrair a métrica específica de todos os folds\n",
        "    metric_values = fold_metrics_np[:, i]\n",
        "\n",
        "    # Índices para o eixo x\n",
        "    x = np.arange(len(metric_values)) + 1  # Folds 1 a K\n",
        "\n",
        "    # Plotando as métricas de cada fold\n",
        "    axs[i].bar(x, metric_values, color='skyblue', label='Per Fold')\n",
        "\n",
        "    # Linha horizontal para a média\n",
        "    axs[i].axhline(y=mean_metrics[i], color='red', linewidth=2, label='Mean Metric')\n",
        "\n",
        "    # Anotação para a média\n",
        "    axs[i].text(x=len(metric_values), y=mean_metrics[i] + 0.03, s=f'Mean: {mean_metrics[i]:.3f}',\n",
        "                color='red', va='center', ha='right', fontweight='bold')\n",
        "\n",
        "    # Anotação para o desvio padrão\n",
        "    axs[i].text(x=len(metric_values), y=mean_metrics[i] - 0.07, s=f'SD: {std_devs[i]:.3f}',\n",
        "                color='blue', va='bottom', ha='right', fontweight='bold')\n",
        "\n",
        "    # Adicionando título e fazendo ajustes no eixo\n",
        "    axs[i].set_title(f'{metric_name} per Fold')\n",
        "    axs[i].set_xlabel('Fold Number')\n",
        "    axs[i].set_xticks(x)\n",
        "    axs[i].set_ylabel(metric_name)\n",
        "    axs[i].legend()\n",
        "\n",
        "# Mostrar o plot\n",
        "plt.tight_layout()\n",
        "plt.show()"
      ],
      "metadata": {
        "colab": {
          "base_uri": "https://localhost:8080/",
          "height": 507
        },
        "outputId": "ad07a80c-fd22-4438-b127-d453140406bc",
        "id": "NKn-TrdRl2kY"
      },
      "execution_count": 35,
      "outputs": [
        {
          "output_type": "display_data",
          "data": {
            "text/plain": [
              "<Figure size 1200x500 with 2 Axes>"
            ],
            "image/png": "[encoded data removed]"
          },
          "metadata": {}
        }
      ]
    },
    {
      "cell_type": "markdown",
      "source": [
        "# Data Augmentation"
      ],
      "metadata": {
        "id": "AdSAThCWN2VJ"
      }
    },
    {
      "cell_type": "code",
      "source": [
        "gerador_treinamento = ImageDataGenerator(rotation_range = 7,\n",
        "                                         horizontal_flip = True,\n",
        "                                         shear_range = 0.2,\n",
        "                                         height_shift_range = 0.07,\n",
        "                                         zoom_range = 0.2)\n",
        "gerador_teste = ImageDataGenerator()\n",
        "\n",
        "base_treinamento = gerador_treinamento.flow(previsores_treinamento,\n",
        "                                            classe_treinamento, batch_size = 128)\n",
        "base_teste = gerador_teste.flow(previsores_teste, classe_teste, batch_size = 128)"
      ],
      "metadata": {
        "id": "5SVZbsUQN19-"
      },
      "execution_count": 36,
      "outputs": []
    },
    {
      "cell_type": "code",
      "source": [
        "classificador.fit_generator(base_treinamento,\n",
        "                            epochs = 5, validation_data = base_teste,\n",
        "                            )"
      ],
      "metadata": {
        "id": "rsjVB2dIOfq3",
        "colab": {
          "base_uri": "https://localhost:8080/"
        },
        "outputId": "449753da-5049-4455-d53a-f7beed83713b"
      },
      "execution_count": 38,
      "outputs": [
        {
          "output_type": "stream",
          "name": "stderr",
          "text": [
            "<ipython-input-38-f369d28232e0>:1: UserWarning: `Model.fit_generator` is deprecated and will be removed in a future version. Please use `Model.fit`, which supports generators.\n",
            "  classificador.fit_generator(base_treinamento,\n"
          ]
        },
        {
          "output_type": "stream",
          "name": "stdout",
          "text": [
            "Epoch 1/5\n",
            "469/469 [==============================] - 51s 109ms/step - loss: 0.1518 - accuracy: 0.9518 - val_loss: 0.0697 - val_accuracy: 0.9777\n",
            "Epoch 2/5\n",
            "469/469 [==============================] - 43s 92ms/step - loss: 0.1194 - accuracy: 0.9623 - val_loss: 0.0701 - val_accuracy: 0.9778\n",
            "Epoch 3/5\n",
            "469/469 [==============================] - 47s 100ms/step - loss: 0.1058 - accuracy: 0.9672 - val_loss: 0.0623 - val_accuracy: 0.9810\n",
            "Epoch 4/5\n",
            "469/469 [==============================] - 48s 102ms/step - loss: 0.0968 - accuracy: 0.9699 - val_loss: 0.0640 - val_accuracy: 0.9803\n",
            "Epoch 5/5\n",
            "469/469 [==============================] - 44s 93ms/step - loss: 0.0887 - accuracy: 0.9723 - val_loss: 0.0687 - val_accuracy: 0.9781\n"
          ]
        },
        {
          "output_type": "execute_result",
          "data": {
            "text/plain": [
              "<keras.src.callbacks.History at 0x7900380b9600>"
            ]
          },
          "metadata": {},
          "execution_count": 38
        }
      ]
    },
    {
      "cell_type": "markdown",
      "source": [
        "# Avaliação"
      ],
      "metadata": {
        "id": "oMAth19m9mVG"
      }
    },
    {
      "cell_type": "markdown",
      "source": [
        "- **Avaliação do Modelo:** Uso da função `evaluate()` para testar a eficácia do modelo."
      ],
      "metadata": {
        "id": "1mKHlkvk9mVH"
      }
    },
    {
      "cell_type": "code",
      "source": [
        "resultado = classificador.evaluate(previsores_teste, classe_teste)"
      ],
      "metadata": {
        "colab": {
          "base_uri": "https://localhost:8080/"
        },
        "outputId": "18949264-193b-45ee-d182-fa81c992d926",
        "id": "zug4cTvS9mVH"
      },
      "execution_count": 39,
      "outputs": [
        {
          "output_type": "stream",
          "name": "stdout",
          "text": [
            "313/313 [==============================] - 2s 5ms/step - loss: 0.0687 - accuracy: 0.9781\n"
          ]
        }
      ]
    },
    {
      "cell_type": "code",
      "source": [
        "previsoes = classificador.predict(previsores_teste)"
      ],
      "metadata": {
        "colab": {
          "base_uri": "https://localhost:8080/"
        },
        "outputId": "3169fc01-e673-4822-9aee-996cb80493d3",
        "id": "O5SlMl349mVI"
      },
      "execution_count": 40,
      "outputs": [
        {
          "output_type": "stream",
          "name": "stdout",
          "text": [
            "313/313 [==============================] - 2s 6ms/step\n"
          ]
        }
      ]
    },
    {
      "cell_type": "code",
      "source": [
        "previsoes = (previsoes > 0.5)"
      ],
      "metadata": {
        "id": "kW7A2ydp9mVI"
      },
      "execution_count": 41,
      "outputs": []
    },
    {
      "cell_type": "code",
      "source": [
        "previsoes[0]"
      ],
      "metadata": {
        "colab": {
          "base_uri": "https://localhost:8080/"
        },
        "outputId": "1512e63a-edb3-47d1-830a-8b620d262731",
        "id": "JOmTBlJt9mVI"
      },
      "execution_count": 42,
      "outputs": [
        {
          "output_type": "execute_result",
          "data": {
            "text/plain": [
              "array([False, False, False, False, False, False, False,  True, False,\n",
              "       False])"
            ]
          },
          "metadata": {},
          "execution_count": 42
        }
      ]
    },
    {
      "cell_type": "code",
      "source": [
        "classe_teste[0]"
      ],
      "metadata": {
        "colab": {
          "base_uri": "https://localhost:8080/"
        },
        "outputId": "64e69a5f-021d-4e2f-e318-7fbb9572cfa8",
        "id": "fsGi4Vcy9mVI"
      },
      "execution_count": 43,
      "outputs": [
        {
          "output_type": "execute_result",
          "data": {
            "text/plain": [
              "array([0., 0., 0., 0., 0., 0., 0., 1., 0., 0.], dtype=float32)"
            ]
          },
          "metadata": {},
          "execution_count": 43
        }
      ]
    },
    {
      "cell_type": "markdown",
      "source": [
        "- **Matriz de Confusão:** Visualização para entender as previsões em detalhe."
      ],
      "metadata": {
        "id": "bluQXRMD9mVJ"
      }
    },
    {
      "cell_type": "code",
      "source": [
        "matriz_confusao = confusion_matrix(classe_teste.argmax(axis=1), previsoes.argmax(axis=1))"
      ],
      "metadata": {
        "id": "XOqPV-bz9mVJ"
      },
      "execution_count": 44,
      "outputs": []
    },
    {
      "cell_type": "code",
      "source": [
        "from sklearn.metrics import confusion_matrix\n",
        "import numpy as np\n",
        "import seaborn as sns\n",
        "import matplotlib.pyplot as plt\n",
        "\n",
        "class_labels = [\"0\", \"1\", \"2\", \"3\", \"4\", \"5\", \"6\", \"7\", \"8\", \"9\"]\n",
        "\n",
        "# Criar a matriz de confusão\n",
        "matriz_confusao = confusion_matrix(classe_teste.argmax(axis=1), previsoes.argmax(axis=1))\n",
        "\n",
        "# Plotar a matriz de confusão\n",
        "sns.heatmap(matriz_confusao, annot=True, fmt='d', cmap='Blues', cbar=True,\n",
        "            xticklabels=class_labels, yticklabels=class_labels)  # Adiciona rótulos personalizados\n",
        "plt.xlabel('Predições')\n",
        "plt.ylabel('Rótulos Reais')\n",
        "plt.title('Matriz de Confusão')\n",
        "plt.show()\n"
      ],
      "metadata": {
        "colab": {
          "base_uri": "https://localhost:8080/",
          "height": 472
        },
        "outputId": "a474edfd-b9d7-4c9a-a25d-6307d0c8817e",
        "id": "88CAsk8u9mVJ"
      },
      "execution_count": 45,
      "outputs": [
        {
          "output_type": "display_data",
          "data": {
            "text/plain": [
              "<Figure size 640x480 with 2 Axes>"
            ],
            "image/png": "[encoded data removed]"
          },
          "metadata": {}
        }
      ]
    },
    {
      "cell_type": "code",
      "source": [
        "from sklearn.metrics import classification_report\n",
        "\n",
        "# Relatório de classificação detalhado\n",
        "classification_rep = classification_report(classe_teste, previsoes, target_names=class_labels)\n",
        "print(\"Relatório de Classificação:\")\n",
        "print(classification_rep)"
      ],
      "metadata": {
        "colab": {
          "base_uri": "https://localhost:8080/"
        },
        "outputId": "a0058374-5d2c-4545-855e-d2343afff4f0",
        "id": "69pKsUjx9mVJ"
      },
      "execution_count": 46,
      "outputs": [
        {
          "output_type": "stream",
          "name": "stdout",
          "text": [
            "Relatório de Classificação:\n",
            "              precision    recall  f1-score   support\n",
            "\n",
            "           0       0.99      0.99      0.99       980\n",
            "           1       0.99      0.99      0.99      1135\n",
            "           2       0.94      0.97      0.95      1032\n",
            "           3       0.98      0.97      0.98      1010\n",
            "           4       1.00      0.99      0.99       982\n",
            "           5       0.96      0.96      0.96       892\n",
            "           6       0.99      0.95      0.97       958\n",
            "           7       0.97      0.99      0.98      1028\n",
            "           8       0.99      0.98      0.99       974\n",
            "           9       0.99      0.97      0.98      1009\n",
            "\n",
            "   micro avg       0.98      0.98      0.98     10000\n",
            "   macro avg       0.98      0.98      0.98     10000\n",
            "weighted avg       0.98      0.98      0.98     10000\n",
            " samples avg       0.98      0.98      0.98     10000\n",
            "\n"
          ]
        },
        {
          "output_type": "stream",
          "name": "stderr",
          "text": [
            "/usr/local/lib/python3.10/dist-packages/sklearn/metrics/_classification.py:1344: UndefinedMetricWarning: Precision and F-score are ill-defined and being set to 0.0 in samples with no predicted labels. Use `zero_division` parameter to control this behavior.\n",
            "  _warn_prf(average, modifier, msg_start, len(result))\n"
          ]
        }
      ]
    }
  ]
}